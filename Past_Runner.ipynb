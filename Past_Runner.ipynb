{
 "cells": [
  {
   "cell_type": "code",
   "execution_count": 2,
   "metadata": {},
   "outputs": [],
   "source": [
    "import pandas as pd\n",
    "import numpy as np\n",
    "import matplotlib.pyplot as plt\n",
    "import seaborn as sns\n",
    "\n",
    "%matplotlib inline"
   ]
  },
  {
   "cell_type": "code",
   "execution_count": 43,
   "metadata": {},
   "outputs": [],
   "source": [
    "run16 = pd.read_excel('~/Desktop/running2016final.xlsx')\n",
    "run17 = pd.read_excel('~/Desktop/running2017final.xlsx')\n",
    "run18 = pd.read_excel('~/Desktop/running2018final.xlsx')\n",
    "run19 = pd.read_excel('~/Desktop/running2019final.xlsx')\n",
    "run20 = pd.read_excel('~/Desktop/running2020final.xlsx')\n"
   ]
  },
  {
   "cell_type": "code",
   "execution_count": 44,
   "metadata": {},
   "outputs": [],
   "source": [
    "def cleanName(name):\n",
    "\n",
    "    splits = name.split()\n",
    "    return ' '.join(splits)\n",
    "\n",
    "\n",
    "    "
   ]
  },
  {
   "cell_type": "code",
   "execution_count": 48,
   "metadata": {},
   "outputs": [],
   "source": [
    "def checkName(name, names):\n",
    "    \n",
    "    if name in names:\n",
    "        return 1\n",
    "    else:\n",
    "        return 0"
   ]
  },
  {
   "cell_type": "code",
   "execution_count": 50,
   "metadata": {},
   "outputs": [],
   "source": [
    "Listy =  [run16, run17, run18, run19, run20]"
   ]
  },
  {
   "cell_type": "code",
   "execution_count": 51,
   "metadata": {},
   "outputs": [],
   "source": [
    "for x in Listy:\n",
    "    \n",
    "    x['Name'] = x['Name'].apply(cleanName)"
   ]
  },
  {
   "cell_type": "code",
   "execution_count": 69,
   "metadata": {},
   "outputs": [],
   "source": [
    "for i, x in enumerate(Listy):\n",
    "    if i == 0:\n",
    "        x['repeat'] = 'N/A'\n",
    "    else:\n",
    "        x['repeat'] = x['Name'].apply(lambda x: x in Listy[i-1]['Name'].unique())\n",
    "\n"
   ]
  },
  {
   "cell_type": "code",
   "execution_count": 76,
   "metadata": {},
   "outputs": [],
   "source": [
    "with pd.ExcelWriter('running2016final.xlsx') as writer:\n",
    "    run16.to_excel(writer)\n",
    "with pd.ExcelWriter('running2017final.xlsx') as writer:\n",
    "    run17.to_excel(writer)\n",
    "with pd.ExcelWriter('running2018final.xlsx') as writer:\n",
    "    run18.to_excel(writer)\n",
    "with pd.ExcelWriter('running2019final.xlsx') as writer:\n",
    "    run19.to_excel(writer)\n",
    "with pd.ExcelWriter('running2020final.xlsx') as writer:\n",
    "    run20.to_excel(writer)"
   ]
  },
  {
   "cell_type": "code",
   "execution_count": null,
   "metadata": {},
   "outputs": [],
   "source": []
  }
 ],
 "metadata": {
  "kernelspec": {
   "display_name": "Python 3",
   "language": "python",
   "name": "python3"
  },
  "language_info": {
   "codemirror_mode": {
    "name": "ipython",
    "version": 3
   },
   "file_extension": ".py",
   "mimetype": "text/x-python",
   "name": "python",
   "nbconvert_exporter": "python",
   "pygments_lexer": "ipython3",
   "version": "3.7.4"
  }
 },
 "nbformat": 4,
 "nbformat_minor": 2
}
